{
 "cells": [
  {
   "cell_type": "code",
   "execution_count": 1,
   "metadata": {},
   "outputs": [],
   "source": [
    "import numpy as np\n",
    "import scipy as sp\n",
    "import pandas as pd\n",
    "import matplotlib.pyplot as plt\n",
    "import seaborn as sns\n",
    "import random as rnd\n",
    "from sklearn.model_selection import train_test_split\n",
    "from tqdm import tqdm"
   ]
  },
  {
   "cell_type": "code",
   "execution_count": 2,
   "metadata": {},
   "outputs": [],
   "source": [
    "data  = pd.read_csv('ionosphereData.csv', header=None)\n",
    "\n",
    "headers = [\"Attribute\"+str(i) for i in range(1,35)]\n",
    "headers.append(\"Class\") # Add the class label column\n",
    "data.columns = headers"
   ]
  },
  {
   "cell_type": "code",
   "execution_count": 3,
   "metadata": {},
   "outputs": [
    {
     "data": {
      "text/html": [
       "<div>\n",
       "<style scoped>\n",
       "    .dataframe tbody tr th:only-of-type {\n",
       "        vertical-align: middle;\n",
       "    }\n",
       "\n",
       "    .dataframe tbody tr th {\n",
       "        vertical-align: top;\n",
       "    }\n",
       "\n",
       "    .dataframe thead th {\n",
       "        text-align: right;\n",
       "    }\n",
       "</style>\n",
       "<table border=\"1\" class=\"dataframe\">\n",
       "  <thead>\n",
       "    <tr style=\"text-align: right;\">\n",
       "      <th></th>\n",
       "      <th>Attribute1</th>\n",
       "      <th>Attribute2</th>\n",
       "      <th>Attribute3</th>\n",
       "      <th>Attribute4</th>\n",
       "      <th>Attribute5</th>\n",
       "      <th>Attribute6</th>\n",
       "      <th>Attribute7</th>\n",
       "      <th>Attribute8</th>\n",
       "      <th>Attribute9</th>\n",
       "      <th>Attribute10</th>\n",
       "      <th>...</th>\n",
       "      <th>Attribute26</th>\n",
       "      <th>Attribute27</th>\n",
       "      <th>Attribute28</th>\n",
       "      <th>Attribute29</th>\n",
       "      <th>Attribute30</th>\n",
       "      <th>Attribute31</th>\n",
       "      <th>Attribute32</th>\n",
       "      <th>Attribute33</th>\n",
       "      <th>Attribute34</th>\n",
       "      <th>Class</th>\n",
       "    </tr>\n",
       "  </thead>\n",
       "  <tbody>\n",
       "    <tr>\n",
       "      <th>0</th>\n",
       "      <td>1</td>\n",
       "      <td>0</td>\n",
       "      <td>0.99539</td>\n",
       "      <td>-0.05889</td>\n",
       "      <td>0.85243</td>\n",
       "      <td>0.02306</td>\n",
       "      <td>0.83398</td>\n",
       "      <td>-0.37708</td>\n",
       "      <td>1.00000</td>\n",
       "      <td>0.03760</td>\n",
       "      <td>...</td>\n",
       "      <td>-0.51171</td>\n",
       "      <td>0.41078</td>\n",
       "      <td>-0.46168</td>\n",
       "      <td>0.21266</td>\n",
       "      <td>-0.34090</td>\n",
       "      <td>0.42267</td>\n",
       "      <td>-0.54487</td>\n",
       "      <td>0.18641</td>\n",
       "      <td>-0.45300</td>\n",
       "      <td>g</td>\n",
       "    </tr>\n",
       "    <tr>\n",
       "      <th>1</th>\n",
       "      <td>1</td>\n",
       "      <td>0</td>\n",
       "      <td>1.00000</td>\n",
       "      <td>-0.18829</td>\n",
       "      <td>0.93035</td>\n",
       "      <td>-0.36156</td>\n",
       "      <td>-0.10868</td>\n",
       "      <td>-0.93597</td>\n",
       "      <td>1.00000</td>\n",
       "      <td>-0.04549</td>\n",
       "      <td>...</td>\n",
       "      <td>-0.26569</td>\n",
       "      <td>-0.20468</td>\n",
       "      <td>-0.18401</td>\n",
       "      <td>-0.19040</td>\n",
       "      <td>-0.11593</td>\n",
       "      <td>-0.16626</td>\n",
       "      <td>-0.06288</td>\n",
       "      <td>-0.13738</td>\n",
       "      <td>-0.02447</td>\n",
       "      <td>b</td>\n",
       "    </tr>\n",
       "    <tr>\n",
       "      <th>2</th>\n",
       "      <td>1</td>\n",
       "      <td>0</td>\n",
       "      <td>1.00000</td>\n",
       "      <td>-0.03365</td>\n",
       "      <td>1.00000</td>\n",
       "      <td>0.00485</td>\n",
       "      <td>1.00000</td>\n",
       "      <td>-0.12062</td>\n",
       "      <td>0.88965</td>\n",
       "      <td>0.01198</td>\n",
       "      <td>...</td>\n",
       "      <td>-0.40220</td>\n",
       "      <td>0.58984</td>\n",
       "      <td>-0.22145</td>\n",
       "      <td>0.43100</td>\n",
       "      <td>-0.17365</td>\n",
       "      <td>0.60436</td>\n",
       "      <td>-0.24180</td>\n",
       "      <td>0.56045</td>\n",
       "      <td>-0.38238</td>\n",
       "      <td>g</td>\n",
       "    </tr>\n",
       "    <tr>\n",
       "      <th>3</th>\n",
       "      <td>1</td>\n",
       "      <td>0</td>\n",
       "      <td>1.00000</td>\n",
       "      <td>-0.45161</td>\n",
       "      <td>1.00000</td>\n",
       "      <td>1.00000</td>\n",
       "      <td>0.71216</td>\n",
       "      <td>-1.00000</td>\n",
       "      <td>0.00000</td>\n",
       "      <td>0.00000</td>\n",
       "      <td>...</td>\n",
       "      <td>0.90695</td>\n",
       "      <td>0.51613</td>\n",
       "      <td>1.00000</td>\n",
       "      <td>1.00000</td>\n",
       "      <td>-0.20099</td>\n",
       "      <td>0.25682</td>\n",
       "      <td>1.00000</td>\n",
       "      <td>-0.32382</td>\n",
       "      <td>1.00000</td>\n",
       "      <td>b</td>\n",
       "    </tr>\n",
       "    <tr>\n",
       "      <th>4</th>\n",
       "      <td>1</td>\n",
       "      <td>0</td>\n",
       "      <td>1.00000</td>\n",
       "      <td>-0.02401</td>\n",
       "      <td>0.94140</td>\n",
       "      <td>0.06531</td>\n",
       "      <td>0.92106</td>\n",
       "      <td>-0.23255</td>\n",
       "      <td>0.77152</td>\n",
       "      <td>-0.16399</td>\n",
       "      <td>...</td>\n",
       "      <td>-0.65158</td>\n",
       "      <td>0.13290</td>\n",
       "      <td>-0.53206</td>\n",
       "      <td>0.02431</td>\n",
       "      <td>-0.62197</td>\n",
       "      <td>-0.05707</td>\n",
       "      <td>-0.59573</td>\n",
       "      <td>-0.04608</td>\n",
       "      <td>-0.65697</td>\n",
       "      <td>g</td>\n",
       "    </tr>\n",
       "  </tbody>\n",
       "</table>\n",
       "<p>5 rows × 35 columns</p>\n",
       "</div>"
      ],
      "text/plain": [
       "   Attribute1  Attribute2  Attribute3  Attribute4  Attribute5  Attribute6  \\\n",
       "0           1           0     0.99539    -0.05889     0.85243     0.02306   \n",
       "1           1           0     1.00000    -0.18829     0.93035    -0.36156   \n",
       "2           1           0     1.00000    -0.03365     1.00000     0.00485   \n",
       "3           1           0     1.00000    -0.45161     1.00000     1.00000   \n",
       "4           1           0     1.00000    -0.02401     0.94140     0.06531   \n",
       "\n",
       "   Attribute7  Attribute8  Attribute9  Attribute10  ...  Attribute26  \\\n",
       "0     0.83398    -0.37708     1.00000      0.03760  ...     -0.51171   \n",
       "1    -0.10868    -0.93597     1.00000     -0.04549  ...     -0.26569   \n",
       "2     1.00000    -0.12062     0.88965      0.01198  ...     -0.40220   \n",
       "3     0.71216    -1.00000     0.00000      0.00000  ...      0.90695   \n",
       "4     0.92106    -0.23255     0.77152     -0.16399  ...     -0.65158   \n",
       "\n",
       "   Attribute27  Attribute28  Attribute29  Attribute30  Attribute31  \\\n",
       "0      0.41078     -0.46168      0.21266     -0.34090      0.42267   \n",
       "1     -0.20468     -0.18401     -0.19040     -0.11593     -0.16626   \n",
       "2      0.58984     -0.22145      0.43100     -0.17365      0.60436   \n",
       "3      0.51613      1.00000      1.00000     -0.20099      0.25682   \n",
       "4      0.13290     -0.53206      0.02431     -0.62197     -0.05707   \n",
       "\n",
       "   Attribute32  Attribute33  Attribute34  Class  \n",
       "0     -0.54487      0.18641     -0.45300      g  \n",
       "1     -0.06288     -0.13738     -0.02447      b  \n",
       "2     -0.24180      0.56045     -0.38238      g  \n",
       "3      1.00000     -0.32382      1.00000      b  \n",
       "4     -0.59573     -0.04608     -0.65697      g  \n",
       "\n",
       "[5 rows x 35 columns]"
      ]
     },
     "execution_count": 3,
     "metadata": {},
     "output_type": "execute_result"
    }
   ],
   "source": [
    "data.head()"
   ]
  },
  {
   "cell_type": "code",
   "execution_count": 4,
   "metadata": {},
   "outputs": [
    {
     "data": {
      "text/plain": [
       "(351, 35)"
      ]
     },
     "execution_count": 4,
     "metadata": {},
     "output_type": "execute_result"
    }
   ],
   "source": [
    "data.shape"
   ]
  },
  {
   "cell_type": "code",
   "execution_count": 5,
   "metadata": {},
   "outputs": [
    {
     "name": "stdout",
     "output_type": "stream",
     "text": [
      "All values in column 2 are 0.\n",
      "Hence the column is redundant and is dropped.\n"
     ]
    }
   ],
   "source": [
    "if (data[\"Attribute2\"] == 0).all():\n",
    "    print(\"All values in column 2 are 0.\")\n",
    "    print(\"Hence the column is redundant and is dropped.\")\n",
    "    data = data.drop(columns=[\"Attribute2\"], axis=1)\n",
    "\n",
    "else:\n",
    "    print(\"Not all values in column 2 are 0\")"
   ]
  },
  {
   "cell_type": "code",
   "execution_count": 6,
   "metadata": {},
   "outputs": [
    {
     "data": {
      "text/plain": [
       "(351, 34)"
      ]
     },
     "execution_count": 6,
     "metadata": {},
     "output_type": "execute_result"
    }
   ],
   "source": [
    "data.shape"
   ]
  },
  {
   "cell_type": "code",
   "execution_count": 7,
   "metadata": {},
   "outputs": [
    {
     "name": "stderr",
     "output_type": "stream",
     "text": [
      "C:\\Users\\jayad\\AppData\\Local\\Temp\\ipykernel_22604\\3124951050.py:3: FutureWarning: The default value of numeric_only in DataFrame.corr is deprecated. In a future version, it will default to False. Select only valid columns or specify the value of numeric_only to silence this warning.\n",
      "  correlationMatrix = data.corr()\n"
     ]
    }
   ],
   "source": [
    "columns = data.columns\n",
    "\n",
    "correlationMatrix = data.corr()"
   ]
  },
  {
   "cell_type": "code",
   "execution_count": 8,
   "metadata": {},
   "outputs": [],
   "source": [
    "X = data.iloc[:, :-1].values\n",
    "y = data.iloc[:, -1].values     \n",
    "\n",
    "\n",
    "X_train, X_test, y_train, y_test = train_test_split(X, y, test_size=0.2, random_state=42)"
   ]
  },
  {
   "cell_type": "code",
   "execution_count": 9,
   "metadata": {},
   "outputs": [
    {
     "name": "stdout",
     "output_type": "stream",
     "text": [
      "X_train shape:  (280, 33)\n",
      "X_test shape:  (71, 33)\n",
      "y_train shape:  (280,)\n",
      "y_test shape:  (71,)\n"
     ]
    }
   ],
   "source": [
    "print(\"X_train shape: \", X_train.shape)\n",
    "print(\"X_test shape: \", X_test.shape)\n",
    "print(\"y_train shape: \", y_train.shape)\n",
    "print(\"y_test shape: \", y_test.shape)"
   ]
  },
  {
   "cell_type": "code",
   "execution_count": 10,
   "metadata": {},
   "outputs": [],
   "source": [
    "from sklearn.preprocessing import StandardScaler\n",
    "\n",
    "scaler = StandardScaler()\n",
    "\n",
    "X_train = scaler.fit_transform(X_train)\n",
    "\n",
    "X_test = scaler.transform(X_test)\n"
   ]
  },
  {
   "cell_type": "code",
   "execution_count": 11,
   "metadata": {},
   "outputs": [],
   "source": [
    "# Convert 'g' to 1 and 'b' to 0\n",
    "y_train = (y_train == 'g').astype(int)\n",
    "y_test = (y_test == 'g').astype(int)\n"
   ]
  },
  {
   "cell_type": "code",
   "execution_count": 12,
   "metadata": {},
   "outputs": [],
   "source": [
    "class Layer:\n",
    "    def __init__(self):\n",
    "        self.input = None\n",
    "        self.output = None\n",
    "\n",
    "    def forward(self, input):\n",
    "        \n",
    "        pass\n",
    "\n",
    "    def backward(self, output_gradient, learning_rate):\n",
    "        \n",
    "        pass"
   ]
  },
  {
   "cell_type": "code",
   "execution_count": 13,
   "metadata": {},
   "outputs": [],
   "source": [
    "class Dense(Layer):\n",
    "    def __init__(self, input_size, output_size):\n",
    "        self.weights = np.random.randn(output_size, input_size)\n",
    "        self.bias = np.random.randn(output_size, 1)\n",
    "\n",
    "    def forward(self, input):\n",
    "        self.input = input\n",
    "        return np.matmul(self.weights, self.input) + self.bias\n",
    "\n",
    "    def backward(self, output_gradient, learning_rate):\n",
    "        weights_gradient = np.matmul(output_gradient, self.input.T)\n",
    "        input_gradient = np.matmul(self.weights.T, output_gradient)\n",
    "        self.weights -= learning_rate * weights_gradient\n",
    "        #print(\"Bias \", self.bias)\n",
    "        #self.bias -= learning_rate * output_gradient\n",
    "        return input_gradient"
   ]
  },
  {
   "cell_type": "code",
   "execution_count": 14,
   "metadata": {},
   "outputs": [],
   "source": [
    "class Activation(Layer):\n",
    "    def __init__(self, activation, activation_prime):\n",
    "        self.activation = activation\n",
    "        self.activation_prime = activation_prime\n",
    "\n",
    "    def forward(self, input):\n",
    "        self.input = input\n",
    "        return self.activation(self.input)\n",
    "\n",
    "    def backward(self, output_gradient, learning_rate):\n",
    "        return np.multiply(output_gradient, self.activation_prime(self.input))"
   ]
  },
  {
   "cell_type": "code",
   "execution_count": 15,
   "metadata": {},
   "outputs": [],
   "source": [
    "class tanh(Activation):\n",
    "    def __init__(self):\n",
    "        def tanh(x):\n",
    "            return np.tanh(x)\n",
    "\n",
    "        def tanh_prime(x):\n",
    "            return 1 - np.tanh(x) ** 2\n",
    "\n",
    "        super().__init__(tanh, tanh_prime)\n",
    "\n",
    "class sigmoid(Activation):\n",
    "    def __init__(self):\n",
    "        def sigmoid(x):\n",
    "            return 1 / (1 + np.exp(-x))\n",
    "\n",
    "        def sigmoid_prime(x):\n",
    "            s = sigmoid(x)\n",
    "            return s * (1 - s)\n",
    "\n",
    "        super().__init__(sigmoid, sigmoid_prime)\n",
    "\n",
    "class Relu(Activation):\n",
    "    def __init__(self):\n",
    "\n",
    "        def relu(x):\n",
    "            return np.maximum(0,x)\n",
    "        \n",
    "        def relu_prime(x):\n",
    "            return np.where(x<=0, 0, 1)\n",
    "        super().__init__(relu, relu_prime)"
   ]
  },
  {
   "cell_type": "code",
   "execution_count": 16,
   "metadata": {},
   "outputs": [],
   "source": [
    "layers = [Dense(33, 33), tanh(), Dense(33,1), sigmoid()]\n",
    "\n",
    "epochs = 1000\n",
    "learning_rate = 0.5\n",
    "\n",
    "\n",
    "\n",
    "for epoch in range(epochs):\n",
    "\n",
    "    error = 0\n",
    "    for i in range(len(X_train)):\n",
    "        instance = X_train[i].reshape(33,1)\n",
    "        true_label = y_train[i]\n",
    "        for layer in layers:\n",
    "            instance = layer.forward(instance)\n",
    "        output = instance\n",
    "        # print(output)\n",
    "        # print(true_label)\n",
    "        error += np.square(true_label-output)\n",
    "        output_gradient = -2*(true_label-output)\n",
    "        for layer in reversed(layers):\n",
    "            output_gradient = layer.backward(output_gradient, learning_rate)\n",
    "    #print(\"Epoch: \", epoch, \"Error: \", error)"
   ]
  },
  {
   "cell_type": "code",
   "execution_count": 17,
   "metadata": {},
   "outputs": [],
   "source": [
    "def predict(X_test):\n",
    "    predictions = []\n",
    "    for instance in X_test:\n",
    "        instance = instance.reshape(33,1)\n",
    "        for layer in layers:\n",
    "            instance = layer.forward(instance)\n",
    "        predictions.append(instance)\n",
    "    return predictions"
   ]
  },
  {
   "cell_type": "code",
   "execution_count": 18,
   "metadata": {},
   "outputs": [],
   "source": [
    "predictions = predict(X_test)"
   ]
  },
  {
   "cell_type": "code",
   "execution_count": 19,
   "metadata": {},
   "outputs": [
    {
     "name": "stdout",
     "output_type": "stream",
     "text": [
      "Predictions:  [array([[0.99999831]]), array([[1.]]), array([[0.99999983]]), array([[0.99944217]]), array([[0.99999897]]), array([[0.99970545]]), array([[0.99950269]]), array([[1.]]), array([[0.99987925]]), array([[1.]]), array([[9.31416762e-06]]), array([[0.99405728]]), array([[8.03366972e-13]]), array([[0.99986412]]), array([[0.99997025]]), array([[0.98495557]]), array([[0.99999998]]), array([[0.00172757]]), array([[0.99999013]]), array([[3.06171704e-07]]), array([[0.99879631]]), array([[7.55545113e-11]]), array([[2.24422977e-10]]), array([[0.99822859]]), array([[0.99999522]]), array([[0.74185073]]), array([[5.5747599e-07]]), array([[1.05240779e-07]]), array([[9.2154721e-05]]), array([[0.99985267]]), array([[0.99564583]]), array([[0.99999911]]), array([[0.99999998]]), array([[0.99999999]]), array([[1.]]), array([[0.00019206]]), array([[0.99999496]]), array([[0.99999506]]), array([[0.95615689]]), array([[0.99999915]]), array([[1.]]), array([[0.99999931]]), array([[0.99999999]]), array([[8.20492645e-05]]), array([[0.99999999]]), array([[0.00016123]]), array([[8.41430067e-05]]), array([[0.99999996]]), array([[0.9996708]]), array([[1.]]), array([[0.99999995]]), array([[0.08945545]]), array([[2.17137502e-10]]), array([[0.19809637]]), array([[3.14893119e-05]]), array([[0.99997968]]), array([[0.99999943]]), array([[0.99999834]]), array([[0.99999601]]), array([[0.99999439]]), array([[9.18745596e-05]]), array([[0.99220234]]), array([[0.99999988]]), array([[0.9999955]]), array([[0.99992893]]), array([[0.99991993]]), array([[0.99991842]]), array([[0.99989892]]), array([[0.99998858]]), array([[1.]]), array([[2.67088666e-06]])]\n"
     ]
    }
   ],
   "source": [
    "for i in range(len(predictions)):\n",
    "    predictions[i] = predictions[i]\n",
    "\n",
    "print(\"Predictions: \", predictions)"
   ]
  },
  {
   "cell_type": "code",
   "execution_count": 20,
   "metadata": {},
   "outputs": [],
   "source": [
    "preds = []\n",
    "for i in predictions:\n",
    "    if i >= 0.5:\n",
    "        preds.append(1)\n",
    "    else:\n",
    "        preds.append(0)\n"
   ]
  },
  {
   "cell_type": "code",
   "execution_count": 21,
   "metadata": {},
   "outputs": [],
   "source": [
    "def accuracy(y_test, predictions):\n",
    "    correct = 0\n",
    "    for i in range(len(y_test)):\n",
    "        if y_test[i] == predictions[i]:\n",
    "            correct += 1\n",
    "    return correct/len(y_test)"
   ]
  },
  {
   "cell_type": "code",
   "execution_count": 22,
   "metadata": {},
   "outputs": [],
   "source": [
    "def confusionMatrix(predictions, y_test):\n",
    "\n",
    "    # TP => Predictions[i]=1 and y_test[i]=1\n",
    "    # TN => Predictions[i]=0 and y_test[i]=0\n",
    "    # FP => Predictions[i]=1 and y_test[i]=0\n",
    "    # FN => Predictions[i]=0 and y_test[i]=1\n",
    "    TP, TN, FP, FN = 0, 0, 0, 0\n",
    "\n",
    "    for i in range(len(predictions)):\n",
    "        if predictions[i]==1 and y_test[i]==1:\n",
    "            TP += 1\n",
    "        elif predictions[i]==0 and y_test[i]==0:\n",
    "            TN += 1\n",
    "        elif predictions[i]==1 and y_test[i]==0:\n",
    "            FP += 1\n",
    "        else:\n",
    "            FN += 1\n",
    "    \n",
    "    return [[TP, FP],[FN,TN]]"
   ]
  },
  {
   "cell_type": "code",
   "execution_count": 23,
   "metadata": {},
   "outputs": [],
   "source": [
    "def precision(confusion_matrix):\n",
    "    return confusion_matrix[0][0]/(confusion_matrix[0][0]+confusion_matrix[0][1])\n",
    "\n",
    "\n",
    "def truepositiveRate(confusion_matrix):\n",
    "    return confusion_matrix[0][0]/(confusion_matrix[0][0]+confusion_matrix[1][0]) # sensitivity"
   ]
  },
  {
   "cell_type": "code",
   "execution_count": 24,
   "metadata": {},
   "outputs": [
    {
     "name": "stdout",
     "output_type": "stream",
     "text": [
      "0.8450704225352113\n"
     ]
    }
   ],
   "source": [
    "print(accuracy(y_test, preds))"
   ]
  },
  {
   "cell_type": "code",
   "execution_count": 25,
   "metadata": {},
   "outputs": [
    {
     "name": "stdout",
     "output_type": "stream",
     "text": [
      "0.9767441860465116\n"
     ]
    }
   ],
   "source": [
    "print(precision(confusionMatrix(preds, y_test)))"
   ]
  },
  {
   "cell_type": "code",
   "execution_count": 26,
   "metadata": {},
   "outputs": [
    {
     "name": "stdout",
     "output_type": "stream",
     "text": [
      "[[42, 1], [10, 18]]\n"
     ]
    }
   ],
   "source": [
    "print(confusionMatrix(preds, y_test))"
   ]
  }
 ],
 "metadata": {
  "kernelspec": {
   "display_name": "Python 3",
   "language": "python",
   "name": "python3"
  },
  "language_info": {
   "codemirror_mode": {
    "name": "ipython",
    "version": 3
   },
   "file_extension": ".py",
   "mimetype": "text/x-python",
   "name": "python",
   "nbconvert_exporter": "python",
   "pygments_lexer": "ipython3",
   "version": "3.9.13"
  }
 },
 "nbformat": 4,
 "nbformat_minor": 2
}
